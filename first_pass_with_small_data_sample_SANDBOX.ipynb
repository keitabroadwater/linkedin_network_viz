{
 "cells": [
  {
   "cell_type": "code",
   "execution_count": 1,
   "metadata": {},
   "outputs": [],
   "source": [
    "from pyvis.network import Network\n",
    "import networkx as nx\n",
    "import pandas as pd"
   ]
  },
  {
   "cell_type": "code",
   "execution_count": 3,
   "metadata": {},
   "outputs": [],
   "source": [
    "df = pd.read_csv('result_test.csv')"
   ]
  },
  {
   "cell_type": "code",
   "execution_count": 4,
   "metadata": {},
   "outputs": [
    {
     "data": {
      "text/html": [
       "<div>\n",
       "<style scoped>\n",
       "    .dataframe tbody tr th:only-of-type {\n",
       "        vertical-align: middle;\n",
       "    }\n",
       "\n",
       "    .dataframe tbody tr th {\n",
       "        vertical-align: top;\n",
       "    }\n",
       "\n",
       "    .dataframe thead th {\n",
       "        text-align: right;\n",
       "    }\n",
       "</style>\n",
       "<table border=\"1\" class=\"dataframe\">\n",
       "  <thead>\n",
       "    <tr style=\"text-align: right;\">\n",
       "      <th></th>\n",
       "      <th>linkedinProfile</th>\n",
       "      <th>fullName</th>\n",
       "      <th>subscribers</th>\n",
       "      <th>mutualConnectionsUrl</th>\n",
       "      <th>mutualConnectionsCount</th>\n",
       "      <th>Unnamed: 5</th>\n",
       "      <th>Unnamed: 6</th>\n",
       "    </tr>\n",
       "  </thead>\n",
       "  <tbody>\n",
       "    <tr>\n",
       "      <th>0</th>\n",
       "      <td>https://www.linkedin.com/in/anand-govind-809372/</td>\n",
       "      <td>Anand Govind</td>\n",
       "      <td>1019</td>\n",
       "      <td>https://www.linkedin.com/search/results/people...</td>\n",
       "      <td>1</td>\n",
       "      <td>['Kushagra Vaid',  ]</td>\n",
       "      <td>['https://www.linkedin.com/in/kvaid/',]</td>\n",
       "    </tr>\n",
       "    <tr>\n",
       "      <th>1</th>\n",
       "      <td>https://www.linkedin.com/in/courtney-mccluney-...</td>\n",
       "      <td>Courtney McCluney</td>\n",
       "      <td>1432</td>\n",
       "      <td>https://www.linkedin.com/search/results/people...</td>\n",
       "      <td>0</td>\n",
       "      <td>['']</td>\n",
       "      <td>NaN</td>\n",
       "    </tr>\n",
       "    <tr>\n",
       "      <th>2</th>\n",
       "      <td>https://www.linkedin.com/in/alessandropalmas/</td>\n",
       "      <td>Alessandro Palmas</td>\n",
       "      <td>2897</td>\n",
       "      <td>https://www.linkedin.com/search/results/people...</td>\n",
       "      <td>7</td>\n",
       "      <td>[ 'Ben Taylor', 'Michael A. Smith, PhD' , 'Dat...</td>\n",
       "      <td>['https://www.linkedin.com/in/bentaylordata/',...</td>\n",
       "    </tr>\n",
       "    <tr>\n",
       "      <th>3</th>\n",
       "      <td>https://www.linkedin.com/in/tbosede/</td>\n",
       "      <td>Tosin Bosede</td>\n",
       "      <td>3355</td>\n",
       "      <td>https://www.linkedin.com/search/results/people...</td>\n",
       "      <td>10</td>\n",
       "      <td>['Rhomaro Tesfai-Powell', 'Cherae Robinson', '...</td>\n",
       "      <td>['https://www.linkedin.com/in/rhomaropowell/',...</td>\n",
       "    </tr>\n",
       "    <tr>\n",
       "      <th>4</th>\n",
       "      <td>https://www.linkedin.com/in/dimari-epps-9819301/</td>\n",
       "      <td>Dimari Epps</td>\n",
       "      <td>4707</td>\n",
       "      <td>https://www.linkedin.com/search/results/people...</td>\n",
       "      <td>7</td>\n",
       "      <td>['Bryan McCreedy', 'Frederick Lester', 'Paul L...</td>\n",
       "      <td>['https://www.linkedin.com/in/bryanmccreedy/',...</td>\n",
       "    </tr>\n",
       "  </tbody>\n",
       "</table>\n",
       "</div>"
      ],
      "text/plain": [
       "                                     linkedinProfile           fullName  \\\n",
       "0   https://www.linkedin.com/in/anand-govind-809372/       Anand Govind   \n",
       "1  https://www.linkedin.com/in/courtney-mccluney-...  Courtney McCluney   \n",
       "2      https://www.linkedin.com/in/alessandropalmas/  Alessandro Palmas   \n",
       "3               https://www.linkedin.com/in/tbosede/       Tosin Bosede   \n",
       "4   https://www.linkedin.com/in/dimari-epps-9819301/        Dimari Epps   \n",
       "\n",
       "   subscribers                               mutualConnectionsUrl  \\\n",
       "0         1019  https://www.linkedin.com/search/results/people...   \n",
       "1         1432  https://www.linkedin.com/search/results/people...   \n",
       "2         2897  https://www.linkedin.com/search/results/people...   \n",
       "3         3355  https://www.linkedin.com/search/results/people...   \n",
       "4         4707  https://www.linkedin.com/search/results/people...   \n",
       "\n",
       "   mutualConnectionsCount                                         Unnamed: 5  \\\n",
       "0                       1                               ['Kushagra Vaid',  ]   \n",
       "1                       0                                               ['']   \n",
       "2                       7  [ 'Ben Taylor', 'Michael A. Smith, PhD' , 'Dat...   \n",
       "3                      10  ['Rhomaro Tesfai-Powell', 'Cherae Robinson', '...   \n",
       "4                       7  ['Bryan McCreedy', 'Frederick Lester', 'Paul L...   \n",
       "\n",
       "                                          Unnamed: 6  \n",
       "0            ['https://www.linkedin.com/in/kvaid/',]  \n",
       "1                                                NaN  \n",
       "2  ['https://www.linkedin.com/in/bentaylordata/',...  \n",
       "3  ['https://www.linkedin.com/in/rhomaropowell/',...  \n",
       "4  ['https://www.linkedin.com/in/bryanmccreedy/',...  "
      ]
     },
     "execution_count": 4,
     "metadata": {},
     "output_type": "execute_result"
    }
   ],
   "source": [
    "df.head()"
   ]
  },
  {
   "cell_type": "code",
   "execution_count": 30,
   "metadata": {},
   "outputs": [],
   "source": [
    "node_list = df.fullName.tolist()\n",
    "\n",
    "node_keys = df.fullName.tolist()"
   ]
  },
  {
   "cell_type": "code",
   "execution_count": null,
   "metadata": {},
   "outputs": [],
   "source": []
  },
  {
   "cell_type": "code",
   "execution_count": 22,
   "metadata": {},
   "outputs": [],
   "source": [
    "list_of_node_lists = df['Unnamed: 5'].tolist()\n",
    "# list_of_node_lists\n",
    "list_of_node_lists = [x.replace(', PhD', ' PhD')  for x in list_of_node_lists]\n",
    "list_of_node_lists = [x.replace(', Jr', ' Jr')  for x in list_of_node_lists]\n",
    "list_of_node_lists = [x.strip('][').split(', ')  for x in list_of_node_lists]\n",
    "# list_of_node_lists\n",
    "list_of_node_lists = [ [x.strip().strip(\"'\") for x in listy] for listy in list_of_node_lists]"
   ]
  },
  {
   "cell_type": "code",
   "execution_count": 23,
   "metadata": {},
   "outputs": [],
   "source": [
    "for listt in list_of_node_lists:\n",
    "    \n",
    "    node_list += listt"
   ]
  },
  {
   "cell_type": "code",
   "execution_count": 28,
   "metadata": {},
   "outputs": [
    {
     "data": {
      "text/plain": [
       "''"
      ]
     },
     "execution_count": 28,
     "metadata": {},
     "output_type": "execute_result"
    }
   ],
   "source": [
    "node_list = list(set(node_list))\n",
    "node_list.pop(0)"
   ]
  },
  {
   "cell_type": "code",
   "execution_count": 33,
   "metadata": {},
   "outputs": [],
   "source": [
    "node_dict = { x:y for x,y in zip(node_keys, list_of_node_lists)}"
   ]
  },
  {
   "cell_type": "code",
   "execution_count": 34,
   "metadata": {},
   "outputs": [
    {
     "data": {
      "text/plain": [
       "{'Anand Govind': ['Kushagra Vaid', ''],\n",
       " 'Courtney McCluney': [''],\n",
       " 'Alessandro Palmas': ['Ben Taylor',\n",
       "  'Michael A. Smith PhD',\n",
       "  'Dat Tran',\n",
       "  'Britton Winterrose',\n",
       "  'Alexey Grigorev',\n",
       "  'Hamed ZITOUN',\n",
       "  'Philip Vollet'],\n",
       " 'Tosin Bosede': ['Rhomaro Tesfai-Powell',\n",
       "  'Cherae Robinson',\n",
       "  'Stephanie Lampkin',\n",
       "  'Joy Buolamwini',\n",
       "  'Yves T',\n",
       "  'Chaun Lowe',\n",
       "  'Olutosin Sonuyi',\n",
       "  'Wade G. Morgan',\n",
       "  'Charles Sekwalor'],\n",
       " 'Dimari Epps': ['Bryan McCreedy',\n",
       "  'Frederick Lester',\n",
       "  'Paul Li',\n",
       "  'Jana Cole',\n",
       "  'Anni Marso',\n",
       "  'Darell Austin Jr',\n",
       "  'Alex Bouchard'],\n",
       " 'Aditi Sharma': ['Huaqing Zhang',\n",
       "  'Eric Weber',\n",
       "  'Thomas Dobbs',\n",
       "  'Chandra Sekhar',\n",
       "  'Darren Reger PhD',\n",
       "  'Cynthia Lai',\n",
       "  'Peeya Iwagoshi',\n",
       "  'Paul Li',\n",
       "  'Joe Reis',\n",
       "  'Uri Weiss',\n",
       "  'Anni Marso',\n",
       "  'Sunakshi Bhatia',\n",
       "  'Logan Suguitan',\n",
       "  'Ibrahim Odumas Odufowora',\n",
       "  'Melissa Clift'],\n",
       " 'Cameo Doran': ['Ben Taylor',\n",
       "  'Zaheer Ali',\n",
       "  'Alex Vilner',\n",
       "  'Jon Browning',\n",
       "  'Ledonia Davis',\n",
       "  'CSM (Certified Scrum Master)',\n",
       "  'Stan Sakharchuk - 𝐅𝐥𝐚𝐰𝐥𝐞𝐬𝐬 Mobile Apps',\n",
       "  'Yalda Zadeh',\n",
       "  'Jeff Giorgi'],\n",
       " 'Yolanda M. Davis': ['Kwame Anku',\n",
       "  'Victor Dibia PhD',\n",
       "  'Joy Buolamwini',\n",
       "  'Rafael Coss',\n",
       "  'Valaretha Brown',\n",
       "  'Tim Spann',\n",
       "  'Patrick Tuttle',\n",
       "  'Joe Sinzer'],\n",
       " 'Graciela Carrillo': ['Steven I. Weiss']}"
      ]
     },
     "execution_count": 34,
     "metadata": {},
     "output_type": "execute_result"
    }
   ],
   "source": [
    "node_dict"
   ]
  },
  {
   "cell_type": "code",
   "execution_count": 53,
   "metadata": {},
   "outputs": [],
   "source": [
    "net = Network(height=\"750px\", width=\"100%\", bgcolor=\"#222222\", font_color=\"white\", notebook=True)\n",
    "\n",
    "# set the physics layout of the network\n",
    "# net.barnes_hut()\n",
    "net.force_atlas_2based()"
   ]
  },
  {
   "cell_type": "code",
   "execution_count": 54,
   "metadata": {},
   "outputs": [],
   "source": [
    "net.add_nodes(node_list)"
   ]
  },
  {
   "cell_type": "code",
   "execution_count": 55,
   "metadata": {},
   "outputs": [],
   "source": [
    "me = 'Keita Broadwater'\n",
    "net.add_node(me)\n",
    "\n",
    "for node in node_list:\n",
    "    net.add_edge(me, node)"
   ]
  },
  {
   "cell_type": "code",
   "execution_count": 56,
   "metadata": {},
   "outputs": [],
   "source": [
    "for k,v in node_dict.items():\n",
    "    \n",
    "    for node in v:\n",
    "        \n",
    "        if node != '':\n",
    "            net.add_edge(k, node)"
   ]
  },
  {
   "cell_type": "code",
   "execution_count": 57,
   "metadata": {},
   "outputs": [
    {
     "data": {
      "text/html": [
       "\n",
       "        <iframe\n",
       "            width=\"100%\"\n",
       "            height=\"750px\"\n",
       "            src=\"gameofthronest.html\"\n",
       "            frameborder=\"0\"\n",
       "            allowfullscreen\n",
       "        ></iframe>\n",
       "        "
      ],
      "text/plain": [
       "<IPython.lib.display.IFrame at 0x7fd2696bdf70>"
      ]
     },
     "execution_count": 57,
     "metadata": {},
     "output_type": "execute_result"
    }
   ],
   "source": [
    "net.show_buttons(filter_=['physics'])\n",
    "net.show(\"gameofthronest.html\")"
   ]
  },
  {
   "cell_type": "code",
   "execution_count": null,
   "metadata": {},
   "outputs": [],
   "source": []
  }
 ],
 "metadata": {
  "kernelspec": {
   "display_name": "Python 3",
   "language": "python",
   "name": "python3"
  },
  "language_info": {
   "codemirror_mode": {
    "name": "ipython",
    "version": 3
   },
   "file_extension": ".py",
   "mimetype": "text/x-python",
   "name": "python",
   "nbconvert_exporter": "python",
   "pygments_lexer": "ipython3",
   "version": "3.8.3"
  }
 },
 "nbformat": 4,
 "nbformat_minor": 4
}
